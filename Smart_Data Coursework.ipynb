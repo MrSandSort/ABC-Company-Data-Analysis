{
 "cells": [
  {
   "cell_type": "code",
   "execution_count": 47,
   "id": "35960efb",
   "metadata": {},
   "outputs": [],
   "source": [
    "import numpy as np\n",
    "import pandas as pd\n",
    "import matplotlib.pyplot as plt\n",
    "import os \n"
   ]
  },
  {
   "cell_type": "markdown",
   "id": "2392dd93",
   "metadata": {},
   "source": [
    "# 2. Data Preparation\n",
    "\n",
    "\n"
   ]
  },
  {
   "cell_type": "markdown",
   "id": "632f3f8b",
   "metadata": {},
   "source": [
    "# Merging multiple csv files into one file"
   ]
  },
  {
   "cell_type": "code",
   "execution_count": 48,
   "id": "522d1f44",
   "metadata": {},
   "outputs": [],
   "source": [
    "#Step 1: Listing all the csv files and ignoring the rest of the extension  \n",
    "\n",
    "file_path=\"../SmartDataCW\"\n",
    "\n",
    "csv_files = []\n",
    "\n",
    "for file_name in os.listdir(file_path):\n",
    "    if file_name.endswith(\".csv\"):  \n",
    "        csv_files.append(file_name)\n"
   ]
  },
  {
   "cell_type": "code",
   "execution_count": 49,
   "id": "31d95f9d",
   "metadata": {},
   "outputs": [
    {
     "data": {
      "text/plain": [
       "['Sales_April_2019.csv',\n",
       " 'Sales_August_2019.csv',\n",
       " 'Sales_December_2019.csv',\n",
       " 'Sales_February_2019.csv',\n",
       " 'Sales_January_2019.csv',\n",
       " 'Sales_July_2019.csv',\n",
       " 'Sales_June_2019.csv',\n",
       " 'Sales_March_2019.csv',\n",
       " 'Sales_May_2019.csv',\n",
       " 'Sales_November_2019.csv',\n",
       " 'Sales_October_2019.csv',\n",
       " 'Sales_September_2019.csv']"
      ]
     },
     "execution_count": 49,
     "metadata": {},
     "output_type": "execute_result"
    }
   ],
   "source": [
    "csv_files"
   ]
  },
  {
   "cell_type": "code",
   "execution_count": 50,
   "id": "b46581b3",
   "metadata": {},
   "outputs": [
    {
     "data": {
      "text/html": [
       "<div>\n",
       "<style scoped>\n",
       "    .dataframe tbody tr th:only-of-type {\n",
       "        vertical-align: middle;\n",
       "    }\n",
       "\n",
       "    .dataframe tbody tr th {\n",
       "        vertical-align: top;\n",
       "    }\n",
       "\n",
       "    .dataframe thead th {\n",
       "        text-align: right;\n",
       "    }\n",
       "</style>\n",
       "<table border=\"1\" class=\"dataframe\">\n",
       "  <thead>\n",
       "    <tr style=\"text-align: right;\">\n",
       "      <th></th>\n",
       "      <th>Order ID</th>\n",
       "      <th>Product</th>\n",
       "      <th>Quantity Ordered</th>\n",
       "      <th>Price Each</th>\n",
       "      <th>Order Date</th>\n",
       "      <th>Purchase Address</th>\n",
       "    </tr>\n",
       "  </thead>\n",
       "  <tbody>\n",
       "    <tr>\n",
       "      <th>0</th>\n",
       "      <td>176558.0</td>\n",
       "      <td>USB-C Charging Cable</td>\n",
       "      <td>2.0</td>\n",
       "      <td>11.95</td>\n",
       "      <td>4/19/2019 8:46</td>\n",
       "      <td>917 1st St, Dallas, TX 75001</td>\n",
       "    </tr>\n",
       "    <tr>\n",
       "      <th>1</th>\n",
       "      <td>NaN</td>\n",
       "      <td>NaN</td>\n",
       "      <td>NaN</td>\n",
       "      <td>NaN</td>\n",
       "      <td>NaN</td>\n",
       "      <td>NaN</td>\n",
       "    </tr>\n",
       "    <tr>\n",
       "      <th>2</th>\n",
       "      <td>176559.0</td>\n",
       "      <td>Bose SoundSport Headphones</td>\n",
       "      <td>1.0</td>\n",
       "      <td>99.99</td>\n",
       "      <td>4/7/2019 22:30</td>\n",
       "      <td>682 Chestnut St, Boston, MA 02215</td>\n",
       "    </tr>\n",
       "    <tr>\n",
       "      <th>3</th>\n",
       "      <td>176560.0</td>\n",
       "      <td>Google Phone</td>\n",
       "      <td>1.0</td>\n",
       "      <td>600.00</td>\n",
       "      <td>4/12/2019 14:38</td>\n",
       "      <td>669 Spruce St, Los Angeles, CA 90001</td>\n",
       "    </tr>\n",
       "    <tr>\n",
       "      <th>4</th>\n",
       "      <td>176560.0</td>\n",
       "      <td>Wired Headphones</td>\n",
       "      <td>1.0</td>\n",
       "      <td>11.99</td>\n",
       "      <td>4/12/2019 14:38</td>\n",
       "      <td>669 Spruce St, Los Angeles, CA 90001</td>\n",
       "    </tr>\n",
       "    <tr>\n",
       "      <th>...</th>\n",
       "      <td>...</td>\n",
       "      <td>...</td>\n",
       "      <td>...</td>\n",
       "      <td>...</td>\n",
       "      <td>...</td>\n",
       "      <td>...</td>\n",
       "    </tr>\n",
       "    <tr>\n",
       "      <th>186845</th>\n",
       "      <td>259353.0</td>\n",
       "      <td>AAA Batteries (4-pack)</td>\n",
       "      <td>3.0</td>\n",
       "      <td>2.99</td>\n",
       "      <td>9/17/2019 20:56</td>\n",
       "      <td>840 Highland St, Los Angeles, CA 90001</td>\n",
       "    </tr>\n",
       "    <tr>\n",
       "      <th>186846</th>\n",
       "      <td>259354.0</td>\n",
       "      <td>iPhone</td>\n",
       "      <td>1.0</td>\n",
       "      <td>700.00</td>\n",
       "      <td>9/1/2019 16:00</td>\n",
       "      <td>216 Dogwood St, San Francisco, CA 94016</td>\n",
       "    </tr>\n",
       "    <tr>\n",
       "      <th>186847</th>\n",
       "      <td>259355.0</td>\n",
       "      <td>iPhone</td>\n",
       "      <td>1.0</td>\n",
       "      <td>700.00</td>\n",
       "      <td>9/23/2019 7:39</td>\n",
       "      <td>220 12th St, San Francisco, CA 94016</td>\n",
       "    </tr>\n",
       "    <tr>\n",
       "      <th>186848</th>\n",
       "      <td>259356.0</td>\n",
       "      <td>34in Ultrawide Monitor</td>\n",
       "      <td>1.0</td>\n",
       "      <td>379.99</td>\n",
       "      <td>9/19/2019 17:30</td>\n",
       "      <td>511 Forest St, San Francisco, CA 94016</td>\n",
       "    </tr>\n",
       "    <tr>\n",
       "      <th>186849</th>\n",
       "      <td>259357.0</td>\n",
       "      <td>USB-C Charging Cable</td>\n",
       "      <td>1.0</td>\n",
       "      <td>11.95</td>\n",
       "      <td>9/30/2019 0:18</td>\n",
       "      <td>250 Meadow St, San Francisco, CA 94016</td>\n",
       "    </tr>\n",
       "  </tbody>\n",
       "</table>\n",
       "<p>186850 rows × 6 columns</p>\n",
       "</div>"
      ],
      "text/plain": [
       "        Order ID                     Product  Quantity Ordered  Price Each  \\\n",
       "0       176558.0        USB-C Charging Cable               2.0       11.95   \n",
       "1            NaN                         NaN               NaN         NaN   \n",
       "2       176559.0  Bose SoundSport Headphones               1.0       99.99   \n",
       "3       176560.0                Google Phone               1.0      600.00   \n",
       "4       176560.0            Wired Headphones               1.0       11.99   \n",
       "...          ...                         ...               ...         ...   \n",
       "186845  259353.0      AAA Batteries (4-pack)               3.0        2.99   \n",
       "186846  259354.0                      iPhone               1.0      700.00   \n",
       "186847  259355.0                      iPhone               1.0      700.00   \n",
       "186848  259356.0      34in Ultrawide Monitor               1.0      379.99   \n",
       "186849  259357.0        USB-C Charging Cable               1.0       11.95   \n",
       "\n",
       "             Order Date                         Purchase Address  \n",
       "0        4/19/2019 8:46             917 1st St, Dallas, TX 75001  \n",
       "1                   NaN                                      NaN  \n",
       "2        4/7/2019 22:30        682 Chestnut St, Boston, MA 02215  \n",
       "3       4/12/2019 14:38     669 Spruce St, Los Angeles, CA 90001  \n",
       "4       4/12/2019 14:38     669 Spruce St, Los Angeles, CA 90001  \n",
       "...                 ...                                      ...  \n",
       "186845  9/17/2019 20:56   840 Highland St, Los Angeles, CA 90001  \n",
       "186846   9/1/2019 16:00  216 Dogwood St, San Francisco, CA 94016  \n",
       "186847   9/23/2019 7:39     220 12th St, San Francisco, CA 94016  \n",
       "186848  9/19/2019 17:30   511 Forest St, San Francisco, CA 94016  \n",
       "186849   9/30/2019 0:18   250 Meadow St, San Francisco, CA 94016  \n",
       "\n",
       "[186850 rows x 6 columns]"
      ]
     },
     "execution_count": 50,
     "metadata": {},
     "output_type": "execute_result"
    }
   ],
   "source": [
    "df= pd.concat(map(pd.read_csv,csv_files),ignore_index=True)\n",
    "df\n"
   ]
  },
  {
   "cell_type": "markdown",
   "id": "1bfc019b",
   "metadata": {},
   "source": [
    "# Removing Missing Values from DataFrame\n"
   ]
  },
  {
   "cell_type": "code",
   "execution_count": 64,
   "id": "6ac33db3",
   "metadata": {},
   "outputs": [
    {
     "ename": "NameError",
     "evalue": "name 'df' is not defined",
     "output_type": "error",
     "traceback": [
      "\u001b[1;31m---------------------------------------------------------------------------\u001b[0m",
      "\u001b[1;31mNameError\u001b[0m                                 Traceback (most recent call last)",
      "Cell \u001b[1;32mIn[64], line 3\u001b[0m\n\u001b[0;32m      1\u001b[0m \u001b[38;5;66;03m# checking all the null values \u001b[39;00m\n\u001b[1;32m----> 3\u001b[0m \u001b[43mdf\u001b[49m\u001b[38;5;241m.\u001b[39misnull()\u001b[38;5;241m.\u001b[39msum()\n",
      "\u001b[1;31mNameError\u001b[0m: name 'df' is not defined"
     ]
    }
   ],
   "source": [
    "# checking all the null values \n",
    "\n",
    "df.isnull().sum()"
   ]
  },
  {
   "cell_type": "code",
   "execution_count": 52,
   "id": "b8568028",
   "metadata": {},
   "outputs": [],
   "source": [
    "df.dropna(inplace=True)\n"
   ]
  },
  {
   "cell_type": "code",
   "execution_count": 53,
   "id": "b5820268",
   "metadata": {},
   "outputs": [
    {
     "data": {
      "text/plain": [
       "Order ID            0\n",
       "Product             0\n",
       "Quantity Ordered    0\n",
       "Price Each          0\n",
       "Order Date          0\n",
       "Purchase Address    0\n",
       "dtype: int64"
      ]
     },
     "execution_count": 53,
     "metadata": {},
     "output_type": "execute_result"
    }
   ],
   "source": [
    "df.isnull().sum()"
   ]
  },
  {
   "cell_type": "markdown",
   "id": "c0cd74d5",
   "metadata": {},
   "source": [
    "# Converting Datatypes of Dataframes columns"
   ]
  },
  {
   "cell_type": "code",
   "execution_count": 54,
   "id": "0fecf451",
   "metadata": {},
   "outputs": [
    {
     "data": {
      "text/plain": [
       "dtype('float64')"
      ]
     },
     "execution_count": 54,
     "metadata": {},
     "output_type": "execute_result"
    }
   ],
   "source": [
    "# Let us view the present datatype of these columns \n",
    "\n",
    "present_datatype_QuantityOrdered= df['Quantity Ordered'].dtype\n",
    "present_datatype_QuantityOrdered"
   ]
  },
  {
   "cell_type": "code",
   "execution_count": 55,
   "id": "a2a7ad25",
   "metadata": {},
   "outputs": [
    {
     "data": {
      "text/html": [
       "<div>\n",
       "<style scoped>\n",
       "    .dataframe tbody tr th:only-of-type {\n",
       "        vertical-align: middle;\n",
       "    }\n",
       "\n",
       "    .dataframe tbody tr th {\n",
       "        vertical-align: top;\n",
       "    }\n",
       "\n",
       "    .dataframe thead th {\n",
       "        text-align: right;\n",
       "    }\n",
       "</style>\n",
       "<table border=\"1\" class=\"dataframe\">\n",
       "  <thead>\n",
       "    <tr style=\"text-align: right;\">\n",
       "      <th></th>\n",
       "      <th>Quantity Ordered</th>\n",
       "      <th>Price Each</th>\n",
       "    </tr>\n",
       "  </thead>\n",
       "  <tbody>\n",
       "    <tr>\n",
       "      <th>0</th>\n",
       "      <td>2.0</td>\n",
       "      <td>11.95</td>\n",
       "    </tr>\n",
       "    <tr>\n",
       "      <th>2</th>\n",
       "      <td>1.0</td>\n",
       "      <td>99.99</td>\n",
       "    </tr>\n",
       "    <tr>\n",
       "      <th>3</th>\n",
       "      <td>1.0</td>\n",
       "      <td>600.00</td>\n",
       "    </tr>\n",
       "    <tr>\n",
       "      <th>4</th>\n",
       "      <td>1.0</td>\n",
       "      <td>11.99</td>\n",
       "    </tr>\n",
       "    <tr>\n",
       "      <th>5</th>\n",
       "      <td>1.0</td>\n",
       "      <td>11.99</td>\n",
       "    </tr>\n",
       "    <tr>\n",
       "      <th>...</th>\n",
       "      <td>...</td>\n",
       "      <td>...</td>\n",
       "    </tr>\n",
       "    <tr>\n",
       "      <th>186845</th>\n",
       "      <td>3.0</td>\n",
       "      <td>2.99</td>\n",
       "    </tr>\n",
       "    <tr>\n",
       "      <th>186846</th>\n",
       "      <td>1.0</td>\n",
       "      <td>700.00</td>\n",
       "    </tr>\n",
       "    <tr>\n",
       "      <th>186847</th>\n",
       "      <td>1.0</td>\n",
       "      <td>700.00</td>\n",
       "    </tr>\n",
       "    <tr>\n",
       "      <th>186848</th>\n",
       "      <td>1.0</td>\n",
       "      <td>379.99</td>\n",
       "    </tr>\n",
       "    <tr>\n",
       "      <th>186849</th>\n",
       "      <td>1.0</td>\n",
       "      <td>11.95</td>\n",
       "    </tr>\n",
       "  </tbody>\n",
       "</table>\n",
       "<p>185950 rows × 2 columns</p>\n",
       "</div>"
      ],
      "text/plain": [
       "        Quantity Ordered  Price Each\n",
       "0                    2.0       11.95\n",
       "2                    1.0       99.99\n",
       "3                    1.0      600.00\n",
       "4                    1.0       11.99\n",
       "5                    1.0       11.99\n",
       "...                  ...         ...\n",
       "186845               3.0        2.99\n",
       "186846               1.0      700.00\n",
       "186847               1.0      700.00\n",
       "186848               1.0      379.99\n",
       "186849               1.0       11.95\n",
       "\n",
       "[185950 rows x 2 columns]"
      ]
     },
     "execution_count": 55,
     "metadata": {},
     "output_type": "execute_result"
    }
   ],
   "source": [
    "df[['Quantity Ordered','Price Each']]"
   ]
  },
  {
   "cell_type": "code",
   "execution_count": 56,
   "id": "f5b0caf1",
   "metadata": {},
   "outputs": [
    {
     "data": {
      "text/plain": [
       "dtype('float64')"
      ]
     },
     "execution_count": 56,
     "metadata": {},
     "output_type": "execute_result"
    }
   ],
   "source": [
    "present_datatype_PriceEach= df['Price Each'].dtype\n",
    "present_datatype_PriceEach"
   ]
  },
  {
   "cell_type": "code",
   "execution_count": 57,
   "id": "2c113f18",
   "metadata": {
    "scrolled": true
   },
   "outputs": [
    {
     "data": {
      "text/plain": [
       "Order ID            float64\n",
       "Product              object\n",
       "Quantity Ordered    float64\n",
       "Price Each          float64\n",
       "Order Date           object\n",
       "Purchase Address     object\n",
       "dtype: object"
      ]
     },
     "execution_count": 57,
     "metadata": {},
     "output_type": "execute_result"
    }
   ],
   "source": [
    "df.dtypes\n",
    "\n"
   ]
  },
  {
   "cell_type": "code",
   "execution_count": 58,
   "id": "d3b71f50",
   "metadata": {
    "scrolled": true
   },
   "outputs": [
    {
     "data": {
      "text/plain": [
       "Order ID            float64\n",
       "Product              object\n",
       "Quantity Ordered      int32\n",
       "Price Each          float64\n",
       "Order Date           object\n",
       "Purchase Address     object\n",
       "dtype: object"
      ]
     },
     "execution_count": 58,
     "metadata": {},
     "output_type": "execute_result"
    }
   ],
   "source": [
    "df['Quantity Ordered'] =df['Quantity Ordered'].astype(int)\n",
    "\n",
    "df.dtypes"
   ]
  },
  {
   "cell_type": "code",
   "execution_count": 59,
   "id": "63f9605b",
   "metadata": {},
   "outputs": [
    {
     "data": {
      "text/plain": [
       "Order ID            float64\n",
       "Product              object\n",
       "Quantity Ordered      int32\n",
       "Price Each            int32\n",
       "Order Date           object\n",
       "Purchase Address     object\n",
       "dtype: object"
      ]
     },
     "execution_count": 59,
     "metadata": {},
     "output_type": "execute_result"
    }
   ],
   "source": [
    "df['Price Each'] = df['Price Each'].round(0).astype(int)\n",
    "\n",
    "df.dtypes"
   ]
  },
  {
   "cell_type": "markdown",
   "id": "f614a0b7",
   "metadata": {},
   "source": [
    "# Creating a new Column and changing its datatypes "
   ]
  },
  {
   "cell_type": "code",
   "execution_count": 60,
   "id": "32b97a7b",
   "metadata": {},
   "outputs": [
    {
     "data": {
      "text/plain": [
       "Order ID            float64\n",
       "Product              object\n",
       "Quantity Ordered      int32\n",
       "Price Each            int32\n",
       "Order Date           object\n",
       "Purchase Address     object\n",
       "Month                object\n",
       "dtype: object"
      ]
     },
     "execution_count": 60,
     "metadata": {},
     "output_type": "execute_result"
    }
   ],
   "source": [
    "updated_dataframe['Month']=updated_dataframe['Order Date']\n",
    "updated_dataframe.dtypes"
   ]
  },
  {
   "cell_type": "code",
   "execution_count": 61,
   "id": "a86418e7",
   "metadata": {},
   "outputs": [],
   "source": [
    "updated_dataframe['Month'] = updated_dataframe['Month'].apply(lambda x: x.strip().split('/')[0])\n",
    "updated_dataframe['Month']=updated_dataframe['Month'].astype(int)\n"
   ]
  },
  {
   "cell_type": "code",
   "execution_count": 62,
   "id": "bc66b2f8",
   "metadata": {},
   "outputs": [
    {
     "data": {
      "text/plain": [
       "Order ID            float64\n",
       "Product              object\n",
       "Quantity Ordered      int32\n",
       "Price Each            int32\n",
       "Order Date           object\n",
       "Purchase Address     object\n",
       "Month                 int32\n",
       "dtype: object"
      ]
     },
     "execution_count": 62,
     "metadata": {},
     "output_type": "execute_result"
    }
   ],
   "source": [
    "updated_dataframe.dtypes"
   ]
  },
  {
   "cell_type": "code",
   "execution_count": 63,
   "id": "a0847477",
   "metadata": {},
   "outputs": [
    {
     "ename": "NameError",
     "evalue": "name 'df' is not defined",
     "output_type": "error",
     "traceback": [
      "\u001b[1;31m---------------------------------------------------------------------------\u001b[0m",
      "\u001b[1;31mNameError\u001b[0m                                 Traceback (most recent call last)",
      "Cell \u001b[1;32mIn[63], line 1\u001b[0m\n\u001b[1;32m----> 1\u001b[0m df[\u001b[38;5;124m'\u001b[39m\u001b[38;5;124mCity\u001b[39m\u001b[38;5;124m'\u001b[39m] \u001b[38;5;241m=\u001b[39m \u001b[43mdf\u001b[49m[\u001b[38;5;124m'\u001b[39m\u001b[38;5;124mPurchase Address\u001b[39m\u001b[38;5;124m'\u001b[39m]\u001b[38;5;241m.\u001b[39mapply(\u001b[38;5;28;01mlambda\u001b[39;00m x: x\u001b[38;5;241m.\u001b[39mstrip()\u001b[38;5;241m.\u001b[39msplit(\u001b[38;5;124m'\u001b[39m\u001b[38;5;124m,\u001b[39m\u001b[38;5;124m'\u001b[39m)[\u001b[38;5;241m1\u001b[39m])\n\u001b[0;32m      2\u001b[0m df\n",
      "\u001b[1;31mNameError\u001b[0m: name 'df' is not defined"
     ]
    }
   ],
   "source": [
    "df['City'] = df['Purchase Address'].apply(lambda x: x.strip().split(',')[1])\n",
    "df\n"
   ]
  },
  {
   "cell_type": "markdown",
   "id": "c27b4ef5",
   "metadata": {},
   "source": [
    "# 3. Data Analysis"
   ]
  },
  {
   "cell_type": "markdown",
   "id": "099abf3f",
   "metadata": {},
   "source": [
    "# Summary statistics of any chosen variable"
   ]
  },
  {
   "cell_type": "code",
   "execution_count": null,
   "id": "69d61512",
   "metadata": {},
   "outputs": [],
   "source": [
    "# Using Quantity Ordered and Price Each as variable\n",
    "\n",
    "selected_columns= df[['Quantity Ordered','Price Each']]"
   ]
  },
  {
   "cell_type": "code",
   "execution_count": null,
   "id": "fe09765a",
   "metadata": {},
   "outputs": [],
   "source": [
    "selected_columns.describe()\n"
   ]
  },
  {
   "cell_type": "code",
   "execution_count": null,
   "id": "447be489",
   "metadata": {},
   "outputs": [],
   "source": [
    "Sum=selected_columns.sum()\n",
    "Sum"
   ]
  },
  {
   "cell_type": "code",
   "execution_count": null,
   "id": "b74c8259",
   "metadata": {},
   "outputs": [],
   "source": [
    "Mean_value=selected_columns.mean()\n",
    "Mean_value"
   ]
  },
  {
   "cell_type": "code",
   "execution_count": null,
   "id": "e9a672a3",
   "metadata": {},
   "outputs": [],
   "source": [
    "checkSkewness=selected_columns.skew()\n",
    "checkSkewness"
   ]
  },
  {
   "cell_type": "code",
   "execution_count": null,
   "id": "751e56b2",
   "metadata": {},
   "outputs": [],
   "source": [
    "checkKurtosis=selected_columns.kurt()\n",
    "checkKurtosis"
   ]
  },
  {
   "cell_type": "markdown",
   "id": "f605d39c",
   "metadata": {},
   "source": [
    "# Corelation of all variables"
   ]
  },
  {
   "cell_type": "code",
   "execution_count": null,
   "id": "c97e4b09",
   "metadata": {},
   "outputs": [],
   "source": [
    "findCorrelation=selected_columns.corr()\n",
    "findCorrelation"
   ]
  },
  {
   "cell_type": "markdown",
   "id": "dd68f2d7",
   "metadata": {},
   "source": [
    "# 4. Data Exploration\n"
   ]
  },
  {
   "cell_type": "markdown",
   "id": "ec32f291",
   "metadata": {},
   "source": [
    "# Months with best sales and earning"
   ]
  },
  {
   "cell_type": "code",
   "execution_count": null,
   "id": "8483d549",
   "metadata": {},
   "outputs": [],
   "source": [
    "df['Amount']=df['Quantity Ordered']* df['Price Each']\n"
   ]
  },
  {
   "cell_type": "code",
   "execution_count": null,
   "id": "1293c245",
   "metadata": {},
   "outputs": [],
   "source": [
    "df.head(5)"
   ]
  },
  {
   "cell_type": "code",
   "execution_count": null,
   "id": "c76d2d9c",
   "metadata": {},
   "outputs": [],
   "source": [
    "monthly_sales=df['Amount'].groupby(df['Month']).sum()"
   ]
  },
  {
   "cell_type": "code",
   "execution_count": null,
   "id": "e422c559",
   "metadata": {},
   "outputs": [],
   "source": [
    "monthly_sales"
   ]
  },
  {
   "cell_type": "code",
   "execution_count": null,
   "id": "b4a66152",
   "metadata": {},
   "outputs": [],
   "source": [
    "print(\"Highest Month of Sales:\",monthly_sales.idxmax())\n",
    "print(\"Sales:\", monthly_sales.max())\n"
   ]
  },
  {
   "cell_type": "code",
   "execution_count": null,
   "id": "822d90da",
   "metadata": {},
   "outputs": [],
   "source": [
    "\n",
    "set_color=['green','red','yellow','pink','lightgreen','skyblue','grey','brown','orange','violet','purple','blue']\n",
    "plt.figure(figsize=(18, 8))\n",
    "plt.bar(monthly_sales.index, monthly_sales.values,color=set_color,edgecolor='black')\n",
    "plt.xlabel('Month')\n",
    "plt.ylabel('Sales')\n",
    "plt.title('Monthly Sales')\n",
    "plt.show()"
   ]
  },
  {
   "cell_type": "markdown",
   "id": "4e080aa8",
   "metadata": {},
   "source": [
    "# City that has sold the highest product"
   ]
  },
  {
   "cell_type": "code",
   "execution_count": null,
   "id": "89139868",
   "metadata": {},
   "outputs": [],
   "source": [
    "product_selling_city=df['Quantity Ordered'].groupby(df['City']).sum()\n",
    "product_selling_city"
   ]
  },
  {
   "cell_type": "code",
   "execution_count": null,
   "id": "7ca695e5",
   "metadata": {},
   "outputs": [],
   "source": [
    "print(\"Month with highest product sales:\",product_selling_city.idxmax())\n",
    "print(\"Highest product sales:\",product_selling_city.max())"
   ]
  },
  {
   "cell_type": "code",
   "execution_count": null,
   "id": "e4be999d",
   "metadata": {},
   "outputs": [],
   "source": [
    "plt.figure(figsize=(16, 8))\n",
    "plt.bar(product_selling_city.index,product_selling_city.values,color=set_color, width=0.7,edgecolor='black')\n",
    "plt.title('Products per City')\n",
    "plt.xlabel('City')\n",
    "plt.ylabel('Products ($)')\n",
    "plt.show()"
   ]
  },
  {
   "cell_type": "markdown",
   "id": "486e0ab3",
   "metadata": {},
   "source": [
    "# Products Mostly Sold"
   ]
  },
  {
   "cell_type": "code",
   "execution_count": null,
   "id": "9828f752",
   "metadata": {},
   "outputs": [],
   "source": [
    "product_sold=df['Quantity Ordered'].groupby(df['Product']).sum()\n",
    "product_sold"
   ]
  },
  {
   "cell_type": "code",
   "execution_count": null,
   "id": "23429442",
   "metadata": {},
   "outputs": [],
   "source": [
    "print(\"Highest Product Sold:\",product_sold.idxmax())\n",
    "print(\"Total Quantity Sold:\",product_sold.max())"
   ]
  },
  {
   "cell_type": "code",
   "execution_count": null,
   "id": "e0f8b5ea",
   "metadata": {},
   "outputs": [],
   "source": [
    "plt.figure(figsize=(16,8))\n",
    "plt.bar(product_sold.index,product_sold.values,color=set_color,edgecolor='black')\n",
    "plt.title('Products per Quantity')\n",
    "plt.xlabel('Products')\n",
    "plt.xticks(rotation=-90)\n",
    "plt.ylabel('Quantity')\n",
    "plt.show()"
   ]
  },
  {
   "cell_type": "markdown",
   "id": "5a0cc406",
   "metadata": {},
   "source": [
    "# Histogram plot of any variable"
   ]
  },
  {
   "cell_type": "markdown",
   "id": "dd94a8ac",
   "metadata": {},
   "source": [
    "# Use of Months Series as variable"
   ]
  },
  {
   "cell_type": "code",
   "execution_count": null,
   "id": "9fa923a8",
   "metadata": {},
   "outputs": [],
   "source": [
    "plt.figure(figsize=(16,8))\n",
    "data = df['Month']\n",
    "plt.hist(data, bins=10, edgecolor='black')\n",
    "plt.xlabel('Month')\n",
    "plt.ylabel('Frequency')\n",
    "plt.title('Histogram of Data')\n",
    "plt.show()"
   ]
  },
  {
   "cell_type": "code",
   "execution_count": null,
   "id": "cb7d5ff9",
   "metadata": {},
   "outputs": [],
   "source": []
  },
  {
   "cell_type": "code",
   "execution_count": null,
   "id": "e9cd74b0",
   "metadata": {},
   "outputs": [],
   "source": []
  }
 ],
 "metadata": {
  "kernelspec": {
   "display_name": "Python 3 (ipykernel)",
   "language": "python",
   "name": "python3"
  },
  "language_info": {
   "codemirror_mode": {
    "name": "ipython",
    "version": 3
   },
   "file_extension": ".py",
   "mimetype": "text/x-python",
   "name": "python",
   "nbconvert_exporter": "python",
   "pygments_lexer": "ipython3",
   "version": "3.11.9"
  }
 },
 "nbformat": 4,
 "nbformat_minor": 5
}
